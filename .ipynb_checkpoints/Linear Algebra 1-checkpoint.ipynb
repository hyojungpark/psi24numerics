{
 "cells": [
  {
   "cell_type": "markdown",
   "id": "01ec09e4-d9b8-4ba8-a52e-c66f9076d23e",
   "metadata": {},
   "source": [
    "# Linear Algebra 1\n",
    "## Jan 11, 2024"
   ]
  },
  {
   "cell_type": "markdown",
   "id": "520f6501-de5f-4e21-a729-1279e9dd754e",
   "metadata": {},
   "source": [
    "## Vector Space\n",
    "- Additive group (x+y, -x, 0): associativity, commutativity\n",
    "- Scalar multiplication"
   ]
  },
  {
   "cell_type": "markdown",
   "id": "ca5bf9e4-57f7-444b-9ed6-1f20f8d82ea5",
   "metadata": {
    "jp-MarkdownHeadingCollapsed": true
   },
   "source": [
    "## Speed of Computers\n",
    "### How is it measured?\n",
    "\n",
    "1. Floating-point Operations \\[Flop/sec\\]\n",
    "- Intel CPU: 2.4 GHz * 8 * 2 (can do (a+b)+(c+d)) * 4 (two cycles like this) * 2 ~ 300 GFlop/sec (Giga Flop/sec) operation rate! --> \"Double Precision\"\n",
    "- AMD GPU: 4000 GFlop/sec \"Single Precision\" ... for graphics, just Euclidean geometry (flat screen)\n",
    "- Intel GPU: 400 GFlop/sec \"Single Precision\" ... uses much less energy, so appropriate for laptops\n",
    "\n",
    "2. Memory Bandwidth \\[Bytes/sec\\] (Data transfer performance)\n",
    "- System: 42 GByte/sec\n",
    "- AMD GPU: 192 GByte/sec\n",
    "    - 1 double = 8 bytes\n",
    "    - 1 sec = 5 GReads\n",
    "    - 1 sec = 300 GFlops\n",
    "    - So Flop/Reads = 60 operations needed before processing another set of readings"
   ]
  },
  {
   "cell_type": "markdown",
   "id": "4557dbe3-2486-42ee-a4b6-57c794c404b1",
   "metadata": {},
   "source": [
    "## Speed of Algorithms: Big-O Notation\n",
    "`O(f(n)) := {g(n): there exist C, n0 such that g(n) <= C f(n) for all n >= n0}`\n",
    "\n",
    "        e.g. O(n^2): a*n^2 + b, with coefficient a and some quantity b that has order < n^2\n",
    "\n",
    "## Cost of Operations\n",
    "           Op    |    Flop    |    Memory Accesses\n",
    "       ---------------------------------------------\n",
    "          x + y  |    O(n)    |   O(2n+1)=O(n)      (n additions; 2 vectors with 1 vector result)\n",
    "       ---------------------------------------------\n",
    "    dot pd x*y   | O(2n)=O(n) |   O(2n+1)=O(n)      (n multiplications; 2 vectors with 1 scalar result)\n",
    "       ---------------------------------------------\n",
    "           Ax    |   O(n^2)   |   O(n^2+2n)=O(n^2)  (n multiplications n times; 1 matrix, 1 vector with 1 vector result)\n",
    "       ---------------------------------------------\n",
    "           AB    |   O(n^3)   |   O(3n^2)=O(n^2)    (n multiplications n^2 times; 2 matrices with 1 matrix result)\n",
    "       ---------------------------------------------\n",
    "          Ax=b   |   O(n^3)   |   O(n^2+3n)=O(n^2)  (n multiplications n^2 times; 2 matrices with 1 matrix result)"
   ]
  },
  {
   "cell_type": "code",
   "execution_count": 2,
   "id": "e4d4f20f-3820-463f-8ca2-866b40171ec1",
   "metadata": {},
   "outputs": [],
   "source": [
    "using BenchmarkTools"
   ]
  },
  {
   "cell_type": "code",
   "execution_count": 3,
   "id": "e204f4c6-5e33-4277-af51-da072a3747fd",
   "metadata": {},
   "outputs": [
    {
     "data": {
      "text/plain": [
       "BenchmarkTools.Trial: 15 samples with 1 evaluation.\n",
       " Range \u001b[90m(\u001b[39m\u001b[36m\u001b[1mmin\u001b[22m\u001b[39m … \u001b[35mmax\u001b[39m\u001b[90m):  \u001b[39m\u001b[36m\u001b[1m318.139 ms\u001b[22m\u001b[39m … \u001b[35m360.418 ms\u001b[39m  \u001b[90m┊\u001b[39m GC \u001b[90m(\u001b[39mmin … max\u001b[90m): \u001b[39m0.00% … 2.70%\n",
       " Time  \u001b[90m(\u001b[39m\u001b[34m\u001b[1mmedian\u001b[22m\u001b[39m\u001b[90m):     \u001b[39m\u001b[34m\u001b[1m336.030 ms               \u001b[22m\u001b[39m\u001b[90m┊\u001b[39m GC \u001b[90m(\u001b[39mmedian\u001b[90m):    \u001b[39m0.00%\n",
       " Time  \u001b[90m(\u001b[39m\u001b[32m\u001b[1mmean\u001b[22m\u001b[39m ± \u001b[32mσ\u001b[39m\u001b[90m):   \u001b[39m\u001b[32m\u001b[1m335.520 ms\u001b[22m\u001b[39m ± \u001b[32m 11.637 ms\u001b[39m  \u001b[90m┊\u001b[39m GC \u001b[90m(\u001b[39mmean ± σ\u001b[90m):  \u001b[39m1.06% ± 1.80%\n",
       "\n",
       "  \u001b[39m▁\u001b[39m \u001b[39m \u001b[39m \u001b[39m \u001b[39m▁\u001b[39m \u001b[39m \u001b[39m▁\u001b[39m \u001b[39m \u001b[39m \u001b[39m \u001b[39m▁\u001b[39m \u001b[39m▁\u001b[39m▁\u001b[39m \u001b[34m▁\u001b[39m\u001b[39m \u001b[39m \u001b[39m \u001b[39m \u001b[39m \u001b[39m \u001b[32m█\u001b[39m\u001b[39m \u001b[39m \u001b[39m▁\u001b[39m \u001b[39m▁\u001b[39m \u001b[39m \u001b[39m \u001b[39m \u001b[39m \u001b[39m \u001b[39m \u001b[39m▁\u001b[39m \u001b[39m \u001b[39m \u001b[39m▁\u001b[39m \u001b[39m \u001b[39m \u001b[39m▁\u001b[39m \u001b[39m \u001b[39m \u001b[39m \u001b[39m \u001b[39m \u001b[39m \u001b[39m \u001b[39m \u001b[39m \u001b[39m \u001b[39m \u001b[39m \u001b[39m▁\u001b[39m \u001b[39m \n",
       "  \u001b[39m█\u001b[39m▁\u001b[39m▁\u001b[39m▁\u001b[39m▁\u001b[39m█\u001b[39m▁\u001b[39m▁\u001b[39m█\u001b[39m▁\u001b[39m▁\u001b[39m▁\u001b[39m▁\u001b[39m█\u001b[39m▁\u001b[39m█\u001b[39m█\u001b[39m▁\u001b[34m█\u001b[39m\u001b[39m▁\u001b[39m▁\u001b[39m▁\u001b[39m▁\u001b[39m▁\u001b[39m▁\u001b[32m█\u001b[39m\u001b[39m▁\u001b[39m▁\u001b[39m█\u001b[39m▁\u001b[39m█\u001b[39m▁\u001b[39m▁\u001b[39m▁\u001b[39m▁\u001b[39m▁\u001b[39m▁\u001b[39m▁\u001b[39m█\u001b[39m▁\u001b[39m▁\u001b[39m▁\u001b[39m█\u001b[39m▁\u001b[39m▁\u001b[39m▁\u001b[39m█\u001b[39m▁\u001b[39m▁\u001b[39m▁\u001b[39m▁\u001b[39m▁\u001b[39m▁\u001b[39m▁\u001b[39m▁\u001b[39m▁\u001b[39m▁\u001b[39m▁\u001b[39m▁\u001b[39m▁\u001b[39m█\u001b[39m \u001b[39m▁\n",
       "  318 ms\u001b[90m           Histogram: frequency by time\u001b[39m          360 ms \u001b[0m\u001b[1m<\u001b[22m\n",
       "\n",
       " Memory estimate\u001b[90m: \u001b[39m\u001b[33m30.52 MiB\u001b[39m, allocs estimate\u001b[90m: \u001b[39m\u001b[33m2\u001b[39m."
      ]
     },
     "execution_count": 3,
     "metadata": {},
     "output_type": "execute_result"
    }
   ],
   "source": [
    "A = randn(2000,2000);\n",
    "B = randn(2000,2000);\n",
    "@benchmark A*B"
   ]
  },
  {
   "cell_type": "code",
   "execution_count": 4,
   "id": "86a4a561-c3ca-4a80-8612-75d53174053f",
   "metadata": {},
   "outputs": [
    {
     "data": {
      "text/plain": [
       "0.05333333333333334"
      ]
     },
     "execution_count": 4,
     "metadata": {},
     "output_type": "execute_result"
    }
   ],
   "source": [
    "(2*2000^3)/300.0e9 # Cost of matrix multiplication (Flop operations)"
   ]
  },
  {
   "cell_type": "code",
   "execution_count": 5,
   "id": "58b516c2-eabf-4680-b125-adc1eb7eb940",
   "metadata": {},
   "outputs": [
    {
     "data": {
      "text/plain": [
       "BenchmarkTools.Trial: 248 samples with 1 evaluation.\n",
       " Range \u001b[90m(\u001b[39m\u001b[36m\u001b[1mmin\u001b[22m\u001b[39m … \u001b[35mmax\u001b[39m\u001b[90m):  \u001b[39m\u001b[36m\u001b[1m13.604 ms\u001b[22m\u001b[39m … \u001b[35m131.042 ms\u001b[39m  \u001b[90m┊\u001b[39m GC \u001b[90m(\u001b[39mmin … max\u001b[90m): \u001b[39m 0.00% …  0.00%\n",
       " Time  \u001b[90m(\u001b[39m\u001b[34m\u001b[1mmedian\u001b[22m\u001b[39m\u001b[90m):     \u001b[39m\u001b[34m\u001b[1m15.804 ms               \u001b[22m\u001b[39m\u001b[90m┊\u001b[39m GC \u001b[90m(\u001b[39mmedian\u001b[90m):    \u001b[39m 0.00%\n",
       " Time  \u001b[90m(\u001b[39m\u001b[32m\u001b[1mmean\u001b[22m\u001b[39m ± \u001b[32mσ\u001b[39m\u001b[90m):   \u001b[39m\u001b[32m\u001b[1m20.191 ms\u001b[22m\u001b[39m ± \u001b[32m  9.977 ms\u001b[39m  \u001b[90m┊\u001b[39m GC \u001b[90m(\u001b[39mmean ± σ\u001b[90m):  \u001b[39m15.66% ± 17.04%\n",
       "\n",
       "  \u001b[39m▄\u001b[39m▆\u001b[39m█\u001b[39m▅\u001b[34m▄\u001b[39m\u001b[39m \u001b[39m \u001b[39m \u001b[39m \u001b[39m \u001b[39m \u001b[39m \u001b[32m \u001b[39m\u001b[39m \u001b[39m \u001b[39m \u001b[39m \u001b[39m \u001b[39m▁\u001b[39m▃\u001b[39m▄\u001b[39m▄\u001b[39m \u001b[39m▁\u001b[39m▁\u001b[39m \u001b[39m \u001b[39m \u001b[39m \u001b[39m \u001b[39m \u001b[39m \u001b[39m \u001b[39m \u001b[39m \u001b[39m \u001b[39m \u001b[39m \u001b[39m \u001b[39m \u001b[39m \u001b[39m \u001b[39m \u001b[39m \u001b[39m \u001b[39m \u001b[39m \u001b[39m \u001b[39m \u001b[39m \u001b[39m \u001b[39m \u001b[39m \u001b[39m \u001b[39m \u001b[39m \u001b[39m \u001b[39m \u001b[39m \u001b[39m \u001b[39m \u001b[39m \n",
       "  \u001b[39m█\u001b[39m█\u001b[39m█\u001b[39m█\u001b[34m█\u001b[39m\u001b[39m█\u001b[39m▄\u001b[39m▇\u001b[39m▆\u001b[39m▁\u001b[39m▆\u001b[39m▁\u001b[32m▄\u001b[39m\u001b[39m▁\u001b[39m▄\u001b[39m▆\u001b[39m▁\u001b[39m▆\u001b[39m█\u001b[39m█\u001b[39m█\u001b[39m█\u001b[39m█\u001b[39m█\u001b[39m█\u001b[39m▄\u001b[39m▁\u001b[39m▁\u001b[39m▆\u001b[39m▆\u001b[39m▄\u001b[39m▄\u001b[39m▆\u001b[39m▄\u001b[39m▁\u001b[39m▄\u001b[39m▁\u001b[39m▁\u001b[39m▁\u001b[39m▁\u001b[39m▁\u001b[39m▁\u001b[39m▁\u001b[39m▄\u001b[39m▁\u001b[39m▁\u001b[39m▁\u001b[39m▁\u001b[39m▁\u001b[39m▄\u001b[39m▁\u001b[39m▆\u001b[39m▁\u001b[39m▁\u001b[39m▁\u001b[39m▁\u001b[39m▄\u001b[39m▁\u001b[39m▁\u001b[39m▄\u001b[39m \u001b[39m▆\n",
       "  13.6 ms\u001b[90m       \u001b[39m\u001b[90mHistogram: \u001b[39m\u001b[90m\u001b[1mlog(\u001b[22m\u001b[39m\u001b[90mfrequency\u001b[39m\u001b[90m\u001b[1m)\u001b[22m\u001b[39m\u001b[90m by time\u001b[39m      46.8 ms \u001b[0m\u001b[1m<\u001b[22m\n",
       "\n",
       " Memory estimate\u001b[90m: \u001b[39m\u001b[33m30.52 MiB\u001b[39m, allocs estimate\u001b[90m: \u001b[39m\u001b[33m2\u001b[39m."
      ]
     },
     "execution_count": 5,
     "metadata": {},
     "output_type": "execute_result"
    }
   ],
   "source": [
    "@benchmark A+B"
   ]
  },
  {
   "cell_type": "markdown",
   "id": "37b7ef17-68ff-43ae-b724-0b55af5d1158",
   "metadata": {},
   "source": [
    "Indeed much faster than matrix multiplication!!"
   ]
  },
  {
   "cell_type": "code",
   "execution_count": 6,
   "id": "ac96d595-06a2-4013-a8ed-feeb2ad94358",
   "metadata": {},
   "outputs": [
    {
     "data": {
      "text/plain": [
       "1.3333333333333333e-5"
      ]
     },
     "execution_count": 6,
     "metadata": {},
     "output_type": "execute_result"
    }
   ],
   "source": [
    "(2000^2)/300.0e9 # Cost of matrix addition (Flop operations)"
   ]
  },
  {
   "cell_type": "code",
   "execution_count": 7,
   "id": "af94f829-054c-472c-ab01-836367ef31e2",
   "metadata": {},
   "outputs": [
    {
     "data": {
      "text/plain": [
       "0.0024"
      ]
     },
     "execution_count": 7,
     "metadata": {},
     "output_type": "execute_result"
    }
   ],
   "source": [
    "(3* 2000^2)/5.0e9 # Cost of matrix addition (Memory access/use)"
   ]
  },
  {
   "cell_type": "markdown",
   "id": "b8346f71-fbcc-460a-9e65-f6826089d7a9",
   "metadata": {},
   "source": [
    "## Linear Algebra Algorithms in Julia\n",
    "Julia is built *for* linear algebra!"
   ]
  },
  {
   "cell_type": "code",
   "execution_count": 8,
   "id": "d6cdc34b-d0e9-4397-a853-059aa8c396c5",
   "metadata": {},
   "outputs": [],
   "source": [
    "using LinearAlgebra #built-in package"
   ]
  },
  {
   "cell_type": "code",
   "execution_count": 9,
   "id": "fb9e3d01-170c-4584-bc9d-12f22450352e",
   "metadata": {},
   "outputs": [
    {
     "data": {
      "text/plain": [
       "3-element Vector{Float64}:\n",
       " 0.0\n",
       " 0.0\n",
       " 0.0"
      ]
     },
     "execution_count": 9,
     "metadata": {},
     "output_type": "execute_result"
    }
   ],
   "source": [
    "zeros(3)"
   ]
  },
  {
   "cell_type": "code",
   "execution_count": 10,
   "id": "42464a3a-9399-4942-8f3e-336b495a4dfe",
   "metadata": {},
   "outputs": [
    {
     "data": {
      "text/plain": [
       "3×3 Matrix{Float64}:\n",
       " 0.0  0.0  0.0\n",
       " 0.0  0.0  0.0\n",
       " 0.0  0.0  0.0"
      ]
     },
     "execution_count": 10,
     "metadata": {},
     "output_type": "execute_result"
    }
   ],
   "source": [
    "zeros(3,3)"
   ]
  },
  {
   "cell_type": "code",
   "execution_count": 11,
   "id": "75e2cafc-4241-4eb7-b971-9285c6a3c6fc",
   "metadata": {},
   "outputs": [
    {
     "data": {
      "text/plain": [
       "3-element Vector{Float64}:\n",
       "  0.4755377857225412\n",
       " -0.6423772903650239\n",
       " -0.915090110065141"
      ]
     },
     "execution_count": 11,
     "metadata": {},
     "output_type": "execute_result"
    }
   ],
   "source": [
    "randn(3) # random 3-vector"
   ]
  },
  {
   "cell_type": "code",
   "execution_count": 12,
   "id": "e6cee1c8-6ea6-49a2-9828-911bc011fb20",
   "metadata": {},
   "outputs": [
    {
     "data": {
      "text/plain": [
       "3×3 Matrix{Float64}:\n",
       " -0.179009  -1.11682    2.38621\n",
       " -1.33089   -1.13028   -0.0930987\n",
       "  0.82508    0.168618   0.14634"
      ]
     },
     "execution_count": 12,
     "metadata": {},
     "output_type": "execute_result"
    }
   ],
   "source": [
    "randn(3,3) # random 3x3 matrix"
   ]
  },
  {
   "cell_type": "code",
   "execution_count": 13,
   "id": "89d26951-e8c5-445d-949d-d8f120aeb034",
   "metadata": {},
   "outputs": [
    {
     "data": {
      "text/plain": [
       "3-element Vector{Float64}:\n",
       " 0.08888159603704948\n",
       " 0.9748402913119574\n",
       " 0.9427031507203351"
      ]
     },
     "execution_count": 13,
     "metadata": {},
     "output_type": "execute_result"
    }
   ],
   "source": [
    "rand(3) # random scalar between 0 and 1"
   ]
  },
  {
   "cell_type": "code",
   "execution_count": 14,
   "id": "4cdb13dd-e407-4da9-97ef-8f09afa421f2",
   "metadata": {},
   "outputs": [
    {
     "data": {
      "text/plain": [
       "(3, 3)"
      ]
     },
     "execution_count": 14,
     "metadata": {},
     "output_type": "execute_result"
    }
   ],
   "source": [
    "A = randn(3,3)\n",
    "x = randn(3)\n",
    "\n",
    "size(A)"
   ]
  },
  {
   "cell_type": "code",
   "execution_count": 15,
   "id": "00ebe694-eb61-4151-9f1b-a138062b24c3",
   "metadata": {},
   "outputs": [
    {
     "data": {
      "text/plain": [
       "(3,)"
      ]
     },
     "execution_count": 15,
     "metadata": {},
     "output_type": "execute_result"
    }
   ],
   "source": [
    "size(x)"
   ]
  },
  {
   "cell_type": "code",
   "execution_count": 16,
   "id": "b027be1a-b553-44e0-a416-c42a706608fa",
   "metadata": {},
   "outputs": [
    {
     "data": {
      "text/plain": [
       "Matrix{Float64}\u001b[90m (alias for \u001b[39m\u001b[90mArray{Float64, 2}\u001b[39m\u001b[90m)\u001b[39m"
      ]
     },
     "execution_count": 16,
     "metadata": {},
     "output_type": "execute_result"
    }
   ],
   "source": [
    "typeof(A)"
   ]
  },
  {
   "cell_type": "code",
   "execution_count": 17,
   "id": "a3d6ca34-fbf7-452b-8383-20dc5e863974",
   "metadata": {},
   "outputs": [
    {
     "data": {
      "text/plain": [
       "Vector{Float64}\u001b[90m (alias for \u001b[39m\u001b[90mArray{Float64, 1}\u001b[39m\u001b[90m)\u001b[39m"
      ]
     },
     "execution_count": 17,
     "metadata": {},
     "output_type": "execute_result"
    }
   ],
   "source": [
    "typeof(x)"
   ]
  },
  {
   "cell_type": "code",
   "execution_count": 18,
   "id": "6ceb0287-4eae-4ffb-8375-838cd1974c8f",
   "metadata": {},
   "outputs": [
    {
     "data": {
      "text/plain": [
       "3×3 adjoint(::Matrix{Float64}) with eltype Float64:\n",
       " 2.01635   1.18712   0.982973\n",
       " 2.03972  -0.526106  0.0813878\n",
       " 1.35059  -1.04266   0.41488"
      ]
     },
     "execution_count": 18,
     "metadata": {},
     "output_type": "execute_result"
    }
   ],
   "source": [
    "A' # adjoint"
   ]
  },
  {
   "cell_type": "code",
   "execution_count": 19,
   "id": "319c2bed-ee6a-4240-a1a3-8073f1aea88b",
   "metadata": {},
   "outputs": [
    {
     "data": {
      "text/plain": [
       "Adjoint{Float64, Matrix{Float64}}"
      ]
     },
     "execution_count": 19,
     "metadata": {},
     "output_type": "execute_result"
    }
   ],
   "source": [
    "typeof(A') # for adjoint/transpose, Julia just accesses the original matirx in a different way, without using new memory"
   ]
  },
  {
   "cell_type": "code",
   "execution_count": 20,
   "id": "610d079f-69e3-4a7e-8739-eb0c76232acf",
   "metadata": {},
   "outputs": [
    {
     "data": {
      "text/plain": [
       "3×3 Symmetric{Float64, Matrix{Float64}}:\n",
       " 2.01635   2.03972    1.35059\n",
       " 2.03972  -0.526106  -1.04266\n",
       " 1.35059  -1.04266    0.41488"
      ]
     },
     "execution_count": 20,
     "metadata": {},
     "output_type": "execute_result"
    }
   ],
   "source": [
    "Symmetric(A) # symmetrizes matrix (using the upper triangle)"
   ]
  },
  {
   "cell_type": "code",
   "execution_count": 21,
   "id": "1f45bc44-4c1d-4b4f-8d35-3141e12cf7fb",
   "metadata": {},
   "outputs": [
    {
     "data": {
      "text/plain": [
       "3-element Vector{Float64}:\n",
       " -0.5402093589024277\n",
       "  1.5248777787414125\n",
       " -1.0177485578210315"
      ]
     },
     "execution_count": 21,
     "metadata": {},
     "output_type": "execute_result"
    }
   ],
   "source": [
    "A \\ x"
   ]
  },
  {
   "cell_type": "code",
   "execution_count": 22,
   "id": "7971bff0-b5fe-40f8-b0fa-4b91ae0b224b",
   "metadata": {},
   "outputs": [
    {
     "data": {
      "text/plain": [
       "-2.535172682723199"
      ]
     },
     "execution_count": 22,
     "metadata": {},
     "output_type": "execute_result"
    }
   ],
   "source": [
    "det(A)"
   ]
  },
  {
   "cell_type": "code",
   "execution_count": 23,
   "id": "8f72707d-9269-4782-85ac-1814d19a1b70",
   "metadata": {},
   "outputs": [
    {
     "data": {
      "text/plain": [
       "3×3 Matrix{Float64}:\n",
       "  0.0526241   0.290441   0.558615\n",
       "  0.598547    0.193693  -1.46171\n",
       " -0.2421     -0.726136   1.37356"
      ]
     },
     "execution_count": 23,
     "metadata": {},
     "output_type": "execute_result"
    }
   ],
   "source": [
    "inv(A) # inverse"
   ]
  },
  {
   "cell_type": "code",
   "execution_count": 24,
   "id": "32bcc058-e064-4852-a4d7-fb37ed114f06",
   "metadata": {},
   "outputs": [
    {
     "data": {
      "text/plain": [
       "3-element Vector{Float64}:\n",
       "  1.1279743969176614\n",
       " -2.929330974599164\n",
       "  2.167615581938823"
      ]
     },
     "execution_count": 24,
     "metadata": {},
     "output_type": "execute_result"
    }
   ],
   "source": [
    "# want to solve A*x=b\n",
    "b = randn(3)\n",
    "inv(A)*b # don't do this!!! inversion can take FOREVER!"
   ]
  },
  {
   "cell_type": "code",
   "execution_count": 25,
   "id": "fd7bdae0-cf8a-47b1-b205-10d502e4d633",
   "metadata": {},
   "outputs": [
    {
     "data": {
      "text/plain": [
       "Eigen{Float64, Float64, Matrix{Float64}, Vector{Float64}}\n",
       "values:\n",
       "3-element Vector{Float64}:\n",
       " -1.613595033344347\n",
       "  0.5247689549308608\n",
       "  2.993952208924382\n",
       "vectors:\n",
       "3×3 Matrix{Float64}:\n",
       " -0.540272   0.137718  -0.912847\n",
       "  0.80964   -0.61487   -0.2029\n",
       "  0.229324   0.776511  -0.35432"
      ]
     },
     "execution_count": 25,
     "metadata": {},
     "output_type": "execute_result"
    }
   ],
   "source": [
    "eigen(A) # eigen decomposition"
   ]
  },
  {
   "cell_type": "code",
   "execution_count": 26,
   "id": "c32020d8-fe70-4715-bf84-eab448470b05",
   "metadata": {},
   "outputs": [
    {
     "data": {
      "text/plain": [
       "SVD{Float64, Float64, Matrix{Float64}, Vector{Float64}}\n",
       "U factor:\n",
       "3×3 Matrix{Float64}:\n",
       " -0.962595    0.0820016  -0.258236\n",
       " -0.0127858  -0.965787   -0.259021\n",
       " -0.270642   -0.24603     0.930711\n",
       "singular values:\n",
       "3-element Vector{Float64}:\n",
       " 3.2879356610728165\n",
       " 1.7195305033918717\n",
       " 0.4484090318994326\n",
       "Vt factor:\n",
       "3×3 Matrix{Float64}:\n",
       " -0.675847  -0.601813  -0.425501\n",
       " -0.711241   0.381117   0.590666\n",
       "  0.193304  -0.701834   0.685611"
      ]
     },
     "execution_count": 26,
     "metadata": {},
     "output_type": "execute_result"
    }
   ],
   "source": [
    "svd(A) # singular value decomposition"
   ]
  },
  {
   "cell_type": "markdown",
   "id": "ee6b20a1-1a3a-4550-9886-cc7aeb0fb42d",
   "metadata": {},
   "source": [
    "But this can be slow, especially if we want only some of the eigenvalues/vectors!"
   ]
  },
  {
   "cell_type": "code",
   "execution_count": 27,
   "id": "4c932c93-ba57-4968-b2be-0a30311f616e",
   "metadata": {},
   "outputs": [],
   "source": [
    "using Arpack"
   ]
  },
  {
   "cell_type": "code",
   "execution_count": 28,
   "id": "aab38353-e700-4529-b909-7be0bc4213ab",
   "metadata": {},
   "outputs": [
    {
     "name": "stderr",
     "output_type": "stream",
     "text": [
      "\u001b[33m\u001b[1m┌ \u001b[22m\u001b[39m\u001b[33m\u001b[1mWarning: \u001b[22m\u001b[39mAdjusting nev from 6 to 1\n",
      "\u001b[33m\u001b[1m└ \u001b[22m\u001b[39m\u001b[90m@ Arpack C:\\Users\\hpark1\\.julia\\packages\\Arpack\\FCvNd\\src\\Arpack.jl:92\u001b[39m\n"
     ]
    },
    {
     "data": {
      "text/plain": [
       "(ComplexF64[2.993952208924383 + 0.0im], ComplexF64[-0.9128465405462922 + 0.0im; -0.20290011833895774 + 0.0im; -0.35432010300109074 + 0.0im;;], 1, 1, 3, [0.0, 0.0, 0.0])"
      ]
     },
     "execution_count": 28,
     "metadata": {},
     "output_type": "execute_result"
    }
   ],
   "source": [
    "eigs(A)"
   ]
  },
  {
   "cell_type": "code",
   "execution_count": 29,
   "id": "2c8fb619-3abf-44fb-b084-b91b2e010de3",
   "metadata": {},
   "outputs": [
    {
     "ename": "LoadError",
     "evalue": "ArgumentError: number of singular values (nsv) must be < 3, got 6",
     "output_type": "error",
     "traceback": [
      "ArgumentError: number of singular values (nsv) must be < 3, got 6",
      "",
      "Stacktrace:",
      " [1] _svds(X::Matrix{Float64}; nsv::Int64, ritzvec::Bool, tol::Float64, maxiter::Int64, ncv::Int64, v0::Vector{Float64}, check::Int64)",
      "   @ Arpack C:\\Users\\hpark1\\.julia\\packages\\Arpack\\FCvNd\\src\\Arpack.jl:335",
      " [2] _svds",
      "   @ Arpack C:\\Users\\hpark1\\.julia\\packages\\Arpack\\FCvNd\\src\\Arpack.jl:330 [inlined]",
      " [3] svds(A::Matrix{Float64})",
      "   @ Arpack C:\\Users\\hpark1\\.julia\\packages\\Arpack\\FCvNd\\src\\Arpack.jl:306",
      " [4] top-level scope",
      "   @ In[29]:1"
     ]
    }
   ],
   "source": [
    "svds(A)"
   ]
  },
  {
   "cell_type": "markdown",
   "id": "abafa510-91ce-4cad-ba73-69b2081de507",
   "metadata": {},
   "source": [
    "REMARK: For SVD, Julia *pre*allocates memory, first expecting the size of the result."
   ]
  }
 ],
 "metadata": {
  "kernelspec": {
   "display_name": "Julia 1.10.0",
   "language": "julia",
   "name": "julia-1.10"
  },
  "language_info": {
   "file_extension": ".jl",
   "mimetype": "application/julia",
   "name": "julia",
   "version": "1.10.0"
  }
 },
 "nbformat": 4,
 "nbformat_minor": 5
}
