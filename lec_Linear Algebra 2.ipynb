{
 "cells": [
  {
   "cell_type": "markdown",
   "id": "5b3919a6-7b3d-49bd-830f-950bffa88bd8",
   "metadata": {},
   "source": [
    "# Linear Algebra 2\n",
    "## Jan 15, 2024 ~ Jan 16, 2024"
   ]
  },
  {
   "cell_type": "markdown",
   "id": "83129233-843d-4cd4-92a4-3503fc93cfb1",
   "metadata": {},
   "source": [
    "# Benchmarking"
   ]
  },
  {
   "cell_type": "code",
   "execution_count": 4,
   "id": "d0102325-c744-4f05-b0b6-9cc9f8f2be99",
   "metadata": {},
   "outputs": [
    {
     "data": {
      "text/plain": [
       "BenchmarkTools.Trial: 10000 samples with 5 evaluations.\n",
       " Range \u001b[90m(\u001b[39m\u001b[36m\u001b[1mmin\u001b[22m\u001b[39m … \u001b[35mmax\u001b[39m\u001b[90m):  \u001b[39m\u001b[36m\u001b[1m 5.640 μs\u001b[22m\u001b[39m … \u001b[35m 21.884 ms\u001b[39m  \u001b[90m┊\u001b[39m GC \u001b[90m(\u001b[39mmin … max\u001b[90m): \u001b[39m0.00% … 0.00%\n",
       " Time  \u001b[90m(\u001b[39m\u001b[34m\u001b[1mmedian\u001b[22m\u001b[39m\u001b[90m):     \u001b[39m\u001b[34m\u001b[1m 5.760 μs               \u001b[22m\u001b[39m\u001b[90m┊\u001b[39m GC \u001b[90m(\u001b[39mmedian\u001b[90m):    \u001b[39m0.00%\n",
       " Time  \u001b[90m(\u001b[39m\u001b[32m\u001b[1mmean\u001b[22m\u001b[39m ± \u001b[32mσ\u001b[39m\u001b[90m):   \u001b[39m\u001b[32m\u001b[1m22.842 μs\u001b[22m\u001b[39m ± \u001b[32m419.462 μs\u001b[39m  \u001b[90m┊\u001b[39m GC \u001b[90m(\u001b[39mmean ± σ\u001b[90m):  \u001b[39m5.13% ± 1.72%\n",
       "\n",
       "  \u001b[34m█\u001b[39m\u001b[39m▃\u001b[39m▄\u001b[39m▄\u001b[39m▄\u001b[39m▂\u001b[39m \u001b[39m \u001b[39m \u001b[39m \u001b[39m \u001b[39m \u001b[39m \u001b[39m \u001b[39m \u001b[39m \u001b[39m \u001b[39m \u001b[39m \u001b[39m \u001b[32m \u001b[39m\u001b[39m \u001b[39m \u001b[39m \u001b[39m \u001b[39m \u001b[39m \u001b[39m \u001b[39m \u001b[39m \u001b[39m \u001b[39m \u001b[39m \u001b[39m \u001b[39m \u001b[39m \u001b[39m \u001b[39m \u001b[39m \u001b[39m \u001b[39m \u001b[39m \u001b[39m \u001b[39m \u001b[39m \u001b[39m \u001b[39m \u001b[39m \u001b[39m \u001b[39m \u001b[39m \u001b[39m \u001b[39m \u001b[39m \u001b[39m \u001b[39m \u001b[39m \u001b[39m \u001b[39m \u001b[39m \u001b[39m \u001b[39m▁\n",
       "  \u001b[34m█\u001b[39m\u001b[39m█\u001b[39m█\u001b[39m█\u001b[39m█\u001b[39m█\u001b[39m█\u001b[39m▇\u001b[39m▇\u001b[39m▇\u001b[39m▇\u001b[39m▆\u001b[39m▅\u001b[39m▅\u001b[39m▃\u001b[39m▄\u001b[39m▄\u001b[39m▃\u001b[39m▃\u001b[39m▃\u001b[32m▁\u001b[39m\u001b[39m▄\u001b[39m▁\u001b[39m▅\u001b[39m▆\u001b[39m▆\u001b[39m▆\u001b[39m▆\u001b[39m▆\u001b[39m▇\u001b[39m▇\u001b[39m▇\u001b[39m▇\u001b[39m█\u001b[39m█\u001b[39m▇\u001b[39m▇\u001b[39m▇\u001b[39m▇\u001b[39m▆\u001b[39m▆\u001b[39m▆\u001b[39m▅\u001b[39m▅\u001b[39m▆\u001b[39m▆\u001b[39m▄\u001b[39m▅\u001b[39m▆\u001b[39m▅\u001b[39m▅\u001b[39m▃\u001b[39m▄\u001b[39m▅\u001b[39m▄\u001b[39m▅\u001b[39m▄\u001b[39m▅\u001b[39m▅\u001b[39m▄\u001b[39m \u001b[39m█\n",
       "  5.64 μs\u001b[90m       \u001b[39m\u001b[90mHistogram: \u001b[39m\u001b[90m\u001b[1mlog(\u001b[22m\u001b[39m\u001b[90mfrequency\u001b[39m\u001b[90m\u001b[1m)\u001b[22m\u001b[39m\u001b[90m by time\u001b[39m      58.4 μs \u001b[0m\u001b[1m<\u001b[22m\n",
       "\n",
       " Memory estimate\u001b[90m: \u001b[39m\u001b[33m2.69 KiB\u001b[39m, allocs estimate\u001b[90m: \u001b[39m\u001b[33m2\u001b[39m."
      ]
     },
     "execution_count": 4,
     "metadata": {},
     "output_type": "execute_result"
    }
   ],
   "source": [
    "@benchmark ys = sin.(xs)"
   ]
  },
  {
   "cell_type": "code",
   "execution_count": 2,
   "id": "8dc1402d-0073-486f-8a28-293129cee8f3",
   "metadata": {},
   "outputs": [
    {
     "name": "stdout",
     "output_type": "stream",
     "text": [
      "  0.333758 seconds (182.06 k allocations: 11.767 MiB, 35.84% gc time, 99.96% compilation time)\n"
     ]
    },
    {
     "data": {
      "text/plain": [
       "315-element Vector{Float64}:\n",
       " 0.0\n",
       " 0.009999833334166664\n",
       " 0.01999866669333308\n",
       " 0.02999550020249566\n",
       " 0.03998933418663416\n",
       " 0.04997916927067833\n",
       " 0.059964006479444595\n",
       " 0.06994284733753277\n",
       " 0.0799146939691727\n",
       " 0.08987854919801104\n",
       " 0.09983341664682815\n",
       " 0.10977830083717481\n",
       " 0.11971220728891936\n",
       " ⋮\n",
       " 0.11136118868664958\n",
       " 0.10141798631660187\n",
       " 0.09146464223243675\n",
       " 0.08150215176026912\n",
       " 0.07153151114084326\n",
       " 0.06155371742991315\n",
       " 0.05156976839853464\n",
       " 0.04158066243329049\n",
       " 0.031587398436453896\n",
       " 0.02159097572609596\n",
       " 0.011592393936158275\n",
       " 0.0015926529164868282"
      ]
     },
     "execution_count": 2,
     "metadata": {},
     "output_type": "execute_result"
    }
   ],
   "source": [
    "xs = 0:0.01:pi\n",
    "@time ys = sin.(xs)"
   ]
  },
  {
   "cell_type": "code",
   "execution_count": 3,
   "id": "ca82250f-f4fa-410a-8954-bb8c2d90a816",
   "metadata": {},
   "outputs": [],
   "source": [
    "using BenchmarkTools"
   ]
  },
  {
   "cell_type": "markdown",
   "id": "4fe83245-c7d3-4cea-a002-fece4c6a2dd0",
   "metadata": {},
   "source": [
    "# Sparse Matrices"
   ]
  },
  {
   "cell_type": "code",
   "execution_count": 1,
   "id": "7b8105d4-bede-4da6-bb71-71f1f31b861a",
   "metadata": {},
   "outputs": [],
   "source": [
    "using LinearAlgebra\n",
    "using SparseArrays"
   ]
  },
  {
   "cell_type": "code",
   "execution_count": 10,
   "id": "56ef3ec7-eaba-44fe-88d8-9509d39c7cda",
   "metadata": {},
   "outputs": [
    {
     "data": {
      "text/plain": [
       "10×10 SparseMatrixCSC{Float64, Int64} with 11 stored entries:\n",
       "  ⋅    ⋅         ⋅         ⋅         …  0.33567    ⋅         ⋅         ⋅ \n",
       "  ⋅    ⋅         ⋅         ⋅             ⋅         ⋅         ⋅         ⋅ \n",
       "  ⋅    ⋅         ⋅         ⋅             ⋅         ⋅         ⋅         ⋅ \n",
       "  ⋅   0.172441   ⋅         ⋅             ⋅         ⋅        0.546291   ⋅ \n",
       "  ⋅    ⋅         ⋅         ⋅             ⋅         ⋅         ⋅         ⋅ \n",
       "  ⋅    ⋅        0.446846   ⋅         …  0.241859  0.738364   ⋅         ⋅ \n",
       "  ⋅    ⋅         ⋅         ⋅            0.214545   ⋅         ⋅         ⋅ \n",
       "  ⋅    ⋅         ⋅         ⋅             ⋅         ⋅        0.754534   ⋅ \n",
       "  ⋅    ⋅         ⋅         ⋅             ⋅         ⋅         ⋅         ⋅ \n",
       "  ⋅    ⋅         ⋅        0.0936715      ⋅         ⋅         ⋅         ⋅ "
      ]
     },
     "execution_count": 10,
     "metadata": {},
     "output_type": "execute_result"
    }
   ],
   "source": [
    "A=sprand(10, 10, 0.2) # sparse random matrix"
   ]
  },
  {
   "cell_type": "markdown",
   "id": "1c02f13a-2f9c-45b6-9ef4-1ed9798d5686",
   "metadata": {},
   "source": [
    "## Efficiency\n",
    "                  |       Full        |      Sparse\n",
    "    -----------------------------------------------------\n",
    "    memory  A     |       O(n^2)      |      O(n\\*p)\n",
    "    -----------------------------------------------------\n",
    "    cost    Ax    |    O(n\\*n=n&2)    |      O(n\\*p)\n",
    "    -----------------------------------------------------\n",
    "           Ax=b   |       O(n^3)      |     ? (the inverse of sparse matrix is usually FULL matrix! Can show by Gaussian elimination)"
   ]
  },
  {
   "cell_type": "code",
   "execution_count": 12,
   "id": "26da1b9b-875f-42f9-a556-4e744336c611",
   "metadata": {},
   "outputs": [
    {
     "ename": "LoadError",
     "evalue": "The inverse of a sparse matrix can often be dense and can cause the computer to run out of memory. If you are sure you have enough memory, please either convert your matrix to a dense matrix, e.g. by calling `Matrix` or if `A` can be factorized, use `\\` on the dense identity matrix, e.g. `A \\ Matrix{eltype(A)}(I, size(A)...)` restrictions of `\\` on sparse lhs applies. Alternatively, `A\\b` is generally preferable to `inv(A)*b`",
     "output_type": "error",
     "traceback": [
      "The inverse of a sparse matrix can often be dense and can cause the computer to run out of memory. If you are sure you have enough memory, please either convert your matrix to a dense matrix, e.g. by calling `Matrix` or if `A` can be factorized, use `\\` on the dense identity matrix, e.g. `A \\ Matrix{eltype(A)}(I, size(A)...)` restrictions of `\\` on sparse lhs applies. Alternatively, `A\\b` is generally preferable to `inv(A)*b`",
      "",
      "Stacktrace:",
      " [1] error(s::String)",
      "   @ Base .\\error.jl:35",
      " [2] inv(A::SparseMatrixCSC{Float64, Int64})",
      "   @ SparseArrays C:\\Users\\hpark1\\AppData\\Local\\Programs\\Julia-1.10.0\\share\\julia\\stdlib\\v1.10\\SparseArrays\\src\\linalg.jl:1574",
      " [3] top-level scope",
      "   @ In[12]:1"
     ]
    }
   ],
   "source": [
    "inv(A) # see, it doens't like to calculate"
   ]
  },
  {
   "cell_type": "code",
   "execution_count": 14,
   "id": "197d9ca0-8097-4d40-915b-a60c9a4b30eb",
   "metadata": {},
   "outputs": [
    {
     "data": {
      "text/plain": [
       "10×10 Matrix{Float64}:\n",
       "  0.0        0.0           0.0          …   0.0      0.0   0.0\n",
       "  0.0        6.6224e-16    1.65857e-15     -4.19861  0.0  -1.36907e-15\n",
       " -0.146277   1.04275e-30  -6.24055e-32      0.0      0.0   2.41492e-15\n",
       "  0.0        4.60123e-15  -2.7537e-16       0.0      0.0  10.6756\n",
       "  0.0        9.08865e-16  -5.43929e-17      0.0      0.0  -2.06914e-16\n",
       " -0.296038  -4.99088e-31   2.98689e-32  …   0.0      0.0  -1.08348e-15\n",
       "  2.11507    0.0           0.0              0.0      0.0  -1.63902e-33\n",
       " -0.241707  -1.97804e-32   1.1838e-33       0.0      0.0  -1.34447e-16\n",
       "  0.0       -6.84903e-17  -1.00008e-16      1.32532  0.0   3.11636e-18\n",
       "  0.0        0.0           0.0              0.0      0.0   0.0"
      ]
     },
     "execution_count": 14,
     "metadata": {},
     "output_type": "execute_result"
    }
   ],
   "source": [
    "pinv(Matrix(A)) # why does this work?"
   ]
  },
  {
   "cell_type": "code",
   "execution_count": 15,
   "id": "7aba502b-83b0-4e9b-acfb-300eaface801",
   "metadata": {},
   "outputs": [
    {
     "data": {
      "text/plain": [
       "10×10 SparseMatrixCSC{Float64, Int64} with 0 stored entries:\n",
       "  ⋅    ⋅    ⋅    ⋅    ⋅    ⋅    ⋅    ⋅    ⋅    ⋅ \n",
       "  ⋅    ⋅    ⋅    ⋅    ⋅    ⋅    ⋅    ⋅    ⋅    ⋅ \n",
       "  ⋅    ⋅    ⋅    ⋅    ⋅    ⋅    ⋅    ⋅    ⋅    ⋅ \n",
       "  ⋅    ⋅    ⋅    ⋅    ⋅    ⋅    ⋅    ⋅    ⋅    ⋅ \n",
       "  ⋅    ⋅    ⋅    ⋅    ⋅    ⋅    ⋅    ⋅    ⋅    ⋅ \n",
       "  ⋅    ⋅    ⋅    ⋅    ⋅    ⋅    ⋅    ⋅    ⋅    ⋅ \n",
       "  ⋅    ⋅    ⋅    ⋅    ⋅    ⋅    ⋅    ⋅    ⋅    ⋅ \n",
       "  ⋅    ⋅    ⋅    ⋅    ⋅    ⋅    ⋅    ⋅    ⋅    ⋅ \n",
       "  ⋅    ⋅    ⋅    ⋅    ⋅    ⋅    ⋅    ⋅    ⋅    ⋅ \n",
       "  ⋅    ⋅    ⋅    ⋅    ⋅    ⋅    ⋅    ⋅    ⋅    ⋅ "
      ]
     },
     "execution_count": 15,
     "metadata": {},
     "output_type": "execute_result"
    }
   ],
   "source": [
    "spzeros(10, 10)"
   ]
  },
  {
   "cell_type": "code",
   "execution_count": 16,
   "id": "a48b5a28-773a-41e5-80a3-fee9cfeb06d0",
   "metadata": {},
   "outputs": [
    {
     "data": {
      "text/plain": [
       "10×10 Diagonal{Int64, UnitRange{Int64}}:\n",
       " 1  ⋅  ⋅  ⋅  ⋅  ⋅  ⋅  ⋅  ⋅   ⋅\n",
       " ⋅  2  ⋅  ⋅  ⋅  ⋅  ⋅  ⋅  ⋅   ⋅\n",
       " ⋅  ⋅  3  ⋅  ⋅  ⋅  ⋅  ⋅  ⋅   ⋅\n",
       " ⋅  ⋅  ⋅  4  ⋅  ⋅  ⋅  ⋅  ⋅   ⋅\n",
       " ⋅  ⋅  ⋅  ⋅  5  ⋅  ⋅  ⋅  ⋅   ⋅\n",
       " ⋅  ⋅  ⋅  ⋅  ⋅  6  ⋅  ⋅  ⋅   ⋅\n",
       " ⋅  ⋅  ⋅  ⋅  ⋅  ⋅  7  ⋅  ⋅   ⋅\n",
       " ⋅  ⋅  ⋅  ⋅  ⋅  ⋅  ⋅  8  ⋅   ⋅\n",
       " ⋅  ⋅  ⋅  ⋅  ⋅  ⋅  ⋅  ⋅  9   ⋅\n",
       " ⋅  ⋅  ⋅  ⋅  ⋅  ⋅  ⋅  ⋅  ⋅  10"
      ]
     },
     "execution_count": 16,
     "metadata": {},
     "output_type": "execute_result"
    }
   ],
   "source": [
    "Diagonal(1:10)"
   ]
  },
  {
   "cell_type": "code",
   "execution_count": 17,
   "id": "ed583e44-4973-4a5d-afde-4cf5e13a29cc",
   "metadata": {},
   "outputs": [
    {
     "data": {
      "text/plain": [
       "10×10 SparseMatrixCSC{Int64, Int64} with 10 stored entries:\n",
       " 1  ⋅  ⋅  ⋅  ⋅  ⋅  ⋅  ⋅  ⋅   ⋅\n",
       " ⋅  2  ⋅  ⋅  ⋅  ⋅  ⋅  ⋅  ⋅   ⋅\n",
       " ⋅  ⋅  3  ⋅  ⋅  ⋅  ⋅  ⋅  ⋅   ⋅\n",
       " ⋅  ⋅  ⋅  4  ⋅  ⋅  ⋅  ⋅  ⋅   ⋅\n",
       " ⋅  ⋅  ⋅  ⋅  5  ⋅  ⋅  ⋅  ⋅   ⋅\n",
       " ⋅  ⋅  ⋅  ⋅  ⋅  6  ⋅  ⋅  ⋅   ⋅\n",
       " ⋅  ⋅  ⋅  ⋅  ⋅  ⋅  7  ⋅  ⋅   ⋅\n",
       " ⋅  ⋅  ⋅  ⋅  ⋅  ⋅  ⋅  8  ⋅   ⋅\n",
       " ⋅  ⋅  ⋅  ⋅  ⋅  ⋅  ⋅  ⋅  9   ⋅\n",
       " ⋅  ⋅  ⋅  ⋅  ⋅  ⋅  ⋅  ⋅  ⋅  10"
      ]
     },
     "execution_count": 17,
     "metadata": {},
     "output_type": "execute_result"
    }
   ],
   "source": [
    "sparse(Diagonal(1:10))"
   ]
  },
  {
   "cell_type": "code",
   "execution_count": 20,
   "id": "e51e17ab-17f3-4d91-ade2-97afe9dba970",
   "metadata": {},
   "outputs": [
    {
     "data": {
      "text/plain": [
       "10×10 Bidiagonal{Int64, UnitRange{Int64}}:\n",
       " 1  1  ⋅  ⋅  ⋅  ⋅  ⋅  ⋅  ⋅   ⋅\n",
       " ⋅  2  2  ⋅  ⋅  ⋅  ⋅  ⋅  ⋅   ⋅\n",
       " ⋅  ⋅  3  3  ⋅  ⋅  ⋅  ⋅  ⋅   ⋅\n",
       " ⋅  ⋅  ⋅  4  4  ⋅  ⋅  ⋅  ⋅   ⋅\n",
       " ⋅  ⋅  ⋅  ⋅  5  5  ⋅  ⋅  ⋅   ⋅\n",
       " ⋅  ⋅  ⋅  ⋅  ⋅  6  6  ⋅  ⋅   ⋅\n",
       " ⋅  ⋅  ⋅  ⋅  ⋅  ⋅  7  7  ⋅   ⋅\n",
       " ⋅  ⋅  ⋅  ⋅  ⋅  ⋅  ⋅  8  8   ⋅\n",
       " ⋅  ⋅  ⋅  ⋅  ⋅  ⋅  ⋅  ⋅  9   9\n",
       " ⋅  ⋅  ⋅  ⋅  ⋅  ⋅  ⋅  ⋅  ⋅  10"
      ]
     },
     "execution_count": 20,
     "metadata": {},
     "output_type": "execute_result"
    }
   ],
   "source": [
    "Bidiagonal(1:10, 1:9, :U) # upper bidiagonal matrix"
   ]
  },
  {
   "cell_type": "code",
   "execution_count": 22,
   "id": "56b98bfe-51ce-4cf0-af8a-077da31737da",
   "metadata": {},
   "outputs": [
    {
     "data": {
      "text/plain": [
       "10×10 Tridiagonal{Int64, UnitRange{Int64}}:\n",
       " 1  5  ⋅  ⋅  ⋅  ⋅   ⋅   ⋅   ⋅   ⋅\n",
       " 2  2  6  ⋅  ⋅  ⋅   ⋅   ⋅   ⋅   ⋅\n",
       " ⋅  3  3  7  ⋅  ⋅   ⋅   ⋅   ⋅   ⋅\n",
       " ⋅  ⋅  4  4  8  ⋅   ⋅   ⋅   ⋅   ⋅\n",
       " ⋅  ⋅  ⋅  5  5  9   ⋅   ⋅   ⋅   ⋅\n",
       " ⋅  ⋅  ⋅  ⋅  6  6  10   ⋅   ⋅   ⋅\n",
       " ⋅  ⋅  ⋅  ⋅  ⋅  7   7  11   ⋅   ⋅\n",
       " ⋅  ⋅  ⋅  ⋅  ⋅  ⋅   8   8  12   ⋅\n",
       " ⋅  ⋅  ⋅  ⋅  ⋅  ⋅   ⋅   9   9  13\n",
       " ⋅  ⋅  ⋅  ⋅  ⋅  ⋅   ⋅   ⋅  10  10"
      ]
     },
     "execution_count": 22,
     "metadata": {},
     "output_type": "execute_result"
    }
   ],
   "source": [
    "Tridiagonal(2:10, 1:10, 5:13)  #lower, main, upper diagonal"
   ]
  },
  {
   "cell_type": "code",
   "execution_count": 30,
   "id": "18035811-d051-407a-a87f-c211702115ad",
   "metadata": {},
   "outputs": [
    {
     "data": {
      "text/plain": [
       "100×100 SparseMatrixCSC{Float64, Int64} with 2004 stored entries:\n",
       "⎡⠀⠀⢰⡟⠌⠶⣠⡥⠨⠂⠀⠴⠣⡏⠡⡄⠠⠕⠔⠄⠠⠀⢐⠠⠮⠃⢨⢈⣾⠁⠰⠌⡰⢀⠶⠡⠰⢢⢢⢄⎤\n",
       "⎢⠮⠍⢈⠀⠤⡧⠤⠅⣂⡢⠠⠁⠀⡤⠄⡌⠐⢁⠄⠅⠨⠠⠱⢨⣤⠄⢾⠪⠴⢀⠠⠤⢐⢷⠢⠐⠨⢀⢠⠀⎥\n",
       "⎢⢤⠤⠴⠖⡀⠧⠇⠄⠌⠥⢣⡅⡡⢦⡥⠠⠰⡔⠄⣔⠱⠁⡰⠈⢼⡘⠰⢆⠈⠠⠑⠡⢠⠡⢲⠀⡍⡈⠀⢀⎥\n",
       "⎢⡀⠅⡂⠕⠀⣱⡆⠗⠒⠄⣃⡃⠔⠄⣈⠓⠁⠔⠀⢕⠀⠁⢧⢅⡆⡢⡄⠠⠆⠠⠅⢂⠐⢇⠨⡓⠄⠬⠠⡄⎥\n",
       "⎢⠡⠥⠒⠏⠤⠂⠪⡨⢄⠼⠘⡨⠀⠄⡤⠀⠍⠢⠠⠄⠹⢂⢀⠀⠈⡀⢮⠁⠱⠐⢬⠄⠄⡐⢨⠠⠣⠔⠨⡤⎥\n",
       "⎢⠀⠄⠘⠐⠢⡌⡄⠆⡤⠖⠁⢆⠀⠰⠵⠊⠀⡥⠀⠼⠰⠀⠨⡔⣀⠔⠰⠩⠐⠤⠪⠤⠴⢢⠢⠔⠤⡀⠜⢑⎥\n",
       "⎢⠠⣆⠛⠆⠢⠮⠐⡤⡁⢰⠐⣂⠀⠥⠰⠮⠈⡤⠸⠀⠠⡡⡰⠃⢧⠈⠘⡀⢬⡈⠘⠌⠭⠀⠨⠀⢎⠰⢔⢢⎥\n",
       "⎢⣨⢢⠦⠇⠂⠅⠉⡌⠂⡴⡢⡌⠈⡰⠠⠁⡔⡃⢙⢇⠈⠀⠇⠰⡸⢔⢂⡁⡸⠀⡊⠌⠈⠴⢒⠀⠌⡠⠄⠔⎥\n",
       "⎢⠕⡌⠈⠀⠰⡿⠄⠂⣄⠁⠤⠂⠂⠂⡈⡣⡀⠄⠀⠡⡨⠀⠐⢇⣹⠎⠍⠤⢙⠀⡰⢎⠴⢀⠠⠀⣠⢀⠰⠄⎥\n",
       "⎢⡴⡂⠅⡀⠄⠁⡜⠜⠬⠒⠡⡄⠊⠢⠀⣅⠔⡈⢾⡗⢦⠘⠀⠀⢘⠉⢒⢀⢌⢄⢶⠀⠈⣐⠴⢙⠄⠠⠄⠠⎥\n",
       "⎢⠲⣖⡄⢓⠒⠄⠐⠓⠈⠶⠠⡂⡄⡀⠀⢁⠀⠐⠅⡖⣐⠂⠘⠤⠊⢋⢒⠀⢜⡐⢗⡘⠰⢘⠸⠁⠺⠐⡂⢐⎥\n",
       "⎢⠐⠋⠐⡨⠐⠗⠄⠃⡘⠒⠺⠖⠄⠲⡁⠂⠠⠔⠀⠪⠰⠠⠘⡃⢐⡑⠊⠀⢺⢆⢹⣖⣰⡐⠯⠉⣂⡂⠲⠀⎥\n",
       "⎢⢀⡆⡐⢳⡐⡀⠀⠀⢮⢑⣠⢠⠀⠦⢂⣓⠀⠦⡀⡓⠂⠐⠚⠐⡘⠆⡒⡧⠐⠠⢞⢁⢘⠂⠔⢈⠬⢉⠚⠀⎥\n",
       "⎢⠠⢒⢐⢄⡂⡓⡂⠈⠐⡞⢍⡐⢰⠅⠈⠁⣂⠨⠐⢇⠙⠨⢚⠀⢒⠄⢂⡐⠐⣦⢠⢌⢂⡚⢎⢖⡐⣐⠨⢒⎥\n",
       "⎢⢀⡓⠬⠂⢢⢂⢀⡋⠢⠉⠨⡃⠖⠆⣩⠁⡠⣀⠂⡰⣃⢃⠸⡢⠂⣐⠀⠐⢢⠬⢐⡄⠐⠒⠂⢂⠒⠑⢃⠂⎥\n",
       "⎢⠩⠕⡊⠂⠐⣢⡐⠇⠐⠔⠢⡄⠀⠂⡐⢃⠆⡊⠑⠂⢒⠓⠜⢓⠁⡰⢒⢐⠊⠂⠴⡄⢒⠙⠰⠁⠹⡒⠉⢖⎥\n",
       "⎢⠒⡱⡸⡼⡐⠀⠖⠋⠐⣶⢆⠂⠈⠀⠂⡗⠀⠖⠊⡀⠘⢘⠒⠸⠿⠓⠑⠞⠥⣋⢍⠠⡕⠀⠂⠐⢜⠤⠀⠐⎥\n",
       "⎢⠀⡂⠈⡀⡅⢷⠴⠣⢂⠋⡹⢰⠱⣄⡣⡓⠆⠢⠂⠂⠒⠂⢴⢐⠕⢁⠆⠂⠚⠸⠐⣀⢠⠂⠀⠀⢚⠀⢠⠤⎥\n",
       "⎢⠘⡀⢂⠓⠢⠓⠰⠅⠚⠖⠣⣔⢘⡃⡀⠁⠒⠂⠥⡞⢐⢈⢛⠅⡃⠀⠂⠂⣠⢴⢀⠅⢑⠒⣠⢆⠳⠨⡢⡐⎥\n",
       "⎣⠈⢀⠀⠩⠰⠑⠁⣀⡐⠠⡁⠀⠐⠙⢀⠃⡰⢄⠰⡄⠑⠢⢘⠁⢕⡁⡜⡀⠜⠆⠹⠑⢂⡈⢋⠄⡚⡲⠚⢑⎦"
      ]
     },
     "execution_count": 30,
     "metadata": {},
     "output_type": "execute_result"
    }
   ],
   "source": [
    "sprandn(100, 100, 0.2) # sparse random matrix with (row, column, density). Now, no longer shows numbers but patterns!"
   ]
  },
  {
   "cell_type": "markdown",
   "id": "4b33fb29-d4c5-4941-9995-2528c74bb085",
   "metadata": {},
   "source": [
    "## Symmetric, Positive-Definite (SPD) Matrix\n",
    "- Symmetric: allows inverse\n",
    "- Positive-definite: gives valid positive eigenvalues\n",
    "\n",
    "$A x = b$\n",
    "\n",
    "$x^*$ true solution\n",
    "\n",
    "$x$ approximate solution\n",
    "\n",
    "$e:=x-x^*$ error\n",
    "\n",
    "$r:=b-Ax$ residual\n",
    "\n",
    "We define\n",
    "$$ G:=\\frac{1}{2} x^TAx-b^Tx $$\n",
    "$$ \\nabla G=Ax-b \\equiv -r$$\n",
    "\n"
   ]
  },
  {
   "cell_type": "markdown",
   "id": "2be8632a-19da-4d1c-a18d-824035547f0a",
   "metadata": {},
   "source": [
    "### Gradient/Steepest Descent Algorithm\n",
    "- Used to study random neural networks\n",
    "- IBM explains: \"Gradient descent is an optimization algorithm which is commonly used to train machine learning models and neural networks. Training data helps these models learn over time, and the cost function within gradient descent specifically acts as a barometer, gauging its accuracy with each iteration of parameter updates.\"\n",
    "\n",
    "#### Julia Implementation\n",
    "        A = randn(10,10)\n",
    "        A = A + A'\n",
    "        A = A*A (matrix multiplication)"
   ]
  },
  {
   "cell_type": "code",
   "execution_count": 2,
   "id": "52e5937e-de83-4748-92ca-7f92beb6ce73",
   "metadata": {},
   "outputs": [
    {
     "data": {
      "text/plain": [
       "gd (generic function with 1 method)"
      ]
     },
     "execution_count": 2,
     "metadata": {},
     "output_type": "execute_result"
    }
   ],
   "source": [
    "function gd(A, b, n)\n",
    "    \"\"\"Julia implementation of gradient/steepest descent\"\"\"\n",
    "    x = zero(b)\n",
    "    for i in 1:n\n",
    "        r = b - A*x\n",
    "        alpha = - (transpose(x)*A*r - transpose(b)*r)/(transpose(r)*A*r)\n",
    "        x = x + alpha*r\n",
    "    end\n",
    "    return x\n",
    "end"
   ]
  },
  {
   "cell_type": "code",
   "execution_count": 4,
   "id": "e3e34477-62f0-45dd-bed8-3b9450dee15b",
   "metadata": {},
   "outputs": [
    {
     "data": {
      "text/plain": [
       "gradient_descent (generic function with 1 method)"
      ]
     },
     "execution_count": 4,
     "metadata": {},
     "output_type": "execute_result"
    }
   ],
   "source": [
    "function gradient_descent(A, b, n)\n",
    "    \"\"\"Solution: Julia implementation of gradient/steepest descent\"\"\"\n",
    "    x0 = A \\ b\n",
    "    x = zero(b)\n",
    "    for i in 1:n\n",
    "        r = b - A*x\n",
    "        println(\"iter $i    |e|=$(norm(x-x0))    |r|=$(norm(r))\")\n",
    "        # x1 = x + alpha*r\n",
    "        # min!(|b - A*x1|^2)\n",
    "        # min!(|r - alpha*A*r|^2)\n",
    "        # solve!((r-alpha*A*r)*(A*r))\n",
    "        s = A * r\n",
    "        alpha = (r' * s) / (s' * s)\n",
    "        x += alpha * r\n",
    "    end\n",
    "    return x\n",
    "end"
   ]
  },
  {
   "cell_type": "code",
   "execution_count": 6,
   "id": "ad62efb7-4260-4cdc-8e98-26ce3a440182",
   "metadata": {},
   "outputs": [
    {
     "data": {
      "text/plain": [
       "10-element Vector{Float64}:\n",
       "   7.470671668192373\n",
       " -22.55758818934296\n",
       "  -3.589330351663579\n",
       "   5.3287295889677395\n",
       "   5.3560942256599215\n",
       "   6.653928897100298\n",
       "   7.088885615124942\n",
       "  -0.6489164957794264\n",
       "  -2.703151465785931\n",
       "  -8.37498752119924"
      ]
     },
     "execution_count": 6,
     "metadata": {},
     "output_type": "execute_result"
    }
   ],
   "source": [
    "b = randn(10)\n",
    "A = sprand(10, 10, 0.2)\n",
    "x = gd(Matrix(A),b, 20)"
   ]
  },
  {
   "cell_type": "markdown",
   "id": "e289ff36-3081-4917-8a68-b8ffe8283c2a",
   "metadata": {},
   "source": [
    "... But Gradient Descent can \"overshoot\" in the direction too much. Can't finish good approximation in two steps!\n",
    "So we use \"Conjugate Gradient Descent\"!\n",
    "\n",
    "## Conjugate Gradient Descent\n",
    "- A combination of the original Gradient Descent Method and Newton's Method.\n",
    "- Chooses a new direction that is ORTHOGONAL to all the previous directions (since the error is orthogonal, move orthogonal to the error direction)! The direction taken at each step is orthogonal to the directions at all previous steps---\"orthogonal\" in \"operator-A sense\".\n",
    "\n",
    "CMU lecture: https://www.cs.cmu.edu/~pradeepr/convexopt/Lecture_Slides/conjugate_direction_methods.pdf"
   ]
  },
  {
   "cell_type": "code",
   "execution_count": 7,
   "id": "bd816311-6fcf-4c15-8218-6a670bd51789",
   "metadata": {},
   "outputs": [
    {
     "data": {
      "text/plain": [
       "conjugate_gradients (generic function with 1 method)"
      ]
     },
     "execution_count": 7,
     "metadata": {},
     "output_type": "execute_result"
    }
   ],
   "source": [
    "function conjugate_gradients(A, b, n)\n",
    "    x0 = A \\ b\n",
    "    x = zero(b)\n",
    "    r = b - A*x\n",
    "    s = r\n",
    "    for i in 1:n\n",
    "        println(\"iter $i    |e|=$(norm(x-x0))    |r|=$(norm(r))\")\n",
    "        alpha = (r' * r) / (s' * A * s)\n",
    "        x1 = x + alpha*s\n",
    "        #r1 = r - alpha*A*s\n",
    "        r1 = r - A*x1\n",
    "        beta1 = (r1' * r1) / (r' * r)\n",
    "        s1 = r1 + beta1*s\n",
    "        x = x1\n",
    "        r = r1\n",
    "        s = s1\n",
    "    end\n",
    "    return x\n",
    "end"
   ]
  },
  {
   "cell_type": "code",
   "execution_count": 9,
   "id": "345dcfeb-41ef-415c-b15a-461e1395d531",
   "metadata": {},
   "outputs": [
    {
     "ename": "LoadError",
     "evalue": "SingularException(0)",
     "output_type": "error",
     "traceback": [
      "SingularException(0)",
      "",
      "Stacktrace:",
      " [1] #lu#7",
      "   @ C:\\Users\\hpark1\\AppData\\Local\\Programs\\Julia-1.10.0\\share\\julia\\stdlib\\v1.10\\SparseArrays\\src\\solvers\\umfpack.jl:380 [inlined]",
      " [2] lu(S::SparseMatrixCSC{Float64, Int64})",
      "   @ SparseArrays.UMFPACK C:\\Users\\hpark1\\AppData\\Local\\Programs\\Julia-1.10.0\\share\\julia\\stdlib\\v1.10\\SparseArrays\\src\\solvers\\umfpack.jl:375",
      " [3] \\(A::SparseMatrixCSC{Float64, Int64}, B::Vector{Float64})",
      "   @ SparseArrays C:\\Users\\hpark1\\AppData\\Local\\Programs\\Julia-1.10.0\\share\\julia\\stdlib\\v1.10\\SparseArrays\\src\\linalg.jl:1714",
      " [4] conjugate_gradients(A::SparseMatrixCSC{Float64, Int64}, b::Vector{Float64}, n::Int64)",
      "   @ Main .\\In[7]:2",
      " [5] top-level scope",
      "   @ In[9]:1"
     ]
    }
   ],
   "source": [
    "x = conjugate_gradients(A, b, 20)\n",
    "norm(x - x0), norm(b - A*x)"
   ]
  },
  {
   "cell_type": "markdown",
   "id": "476e59a7-1021-4de1-bdfb-ae90eafbfea3",
   "metadata": {},
   "source": [
    "Much faster, since the path to the solution is zig-zag!"
   ]
  },
  {
   "cell_type": "code",
   "execution_count": null,
   "id": "208c42ba-9cee-47a2-bfa2-cae9760493a4",
   "metadata": {},
   "outputs": [],
   "source": []
  }
 ],
 "metadata": {
  "kernelspec": {
   "display_name": "Julia 1.10.0",
   "language": "julia",
   "name": "julia-1.10"
  },
  "language_info": {
   "file_extension": ".jl",
   "mimetype": "application/julia",
   "name": "julia",
   "version": "1.10.0"
  }
 },
 "nbformat": 4,
 "nbformat_minor": 5
}
