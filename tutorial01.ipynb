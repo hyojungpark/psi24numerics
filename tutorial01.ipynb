{
 "cells": [
  {
   "cell_type": "code",
   "execution_count": 1,
   "id": "18cb43e4-a222-4814-9e9c-997f730107f2",
   "metadata": {},
   "outputs": [],
   "source": [
    "using WGLMakie"
   ]
  },
  {
   "cell_type": "code",
   "execution_count": 7,
   "id": "04faf4f5-f698-4763-96ae-8075c7973c92",
   "metadata": {},
   "outputs": [
    {
     "ename": "LoadError",
     "evalue": "ArgumentError: Package Plots not found in current path.\n- Run `import Pkg; Pkg.add(\"Plots\")` to install the Plots package.",
     "output_type": "error",
     "traceback": [
      "ArgumentError: Package Plots not found in current path.\n- Run `import Pkg; Pkg.add(\"Plots\")` to install the Plots package.",
      "",
      "Stacktrace:",
      " [1] macro expansion",
      "   @ Base .\\loading.jl:1766 [inlined]",
      " [2] macro expansion",
      "   @ Base .\\lock.jl:267 [inlined]",
      " [3] __require(into::Module, mod::Symbol)",
      "   @ Base .\\loading.jl:1747",
      " [4] #invoke_in_world#3",
      "   @ Base .\\essentials.jl:921 [inlined]",
      " [5] invoke_in_world",
      "   @ Base .\\essentials.jl:918 [inlined]",
      " [6] require(into::Module, mod::Symbol)",
      "   @ Base .\\loading.jl:1740"
     ]
    }
   ],
   "source": [
    "using Plots"
   ]
  },
  {
   "cell_type": "code",
   "execution_count": 11,
   "id": "0ef2e744-a466-4d62-b159-ef9749e2d34d",
   "metadata": {},
   "outputs": [
    {
     "ename": "LoadError",
     "evalue": "No recipe for plot",
     "output_type": "error",
     "traceback": [
      "No recipe for plot",
      "",
      "Stacktrace:",
      " [1] error(s::String)",
      "   @ Base .\\error.jl:35",
      " [2] plot!",
      "   @ C:\\Users\\hpark1\\.julia\\packages\\Makie\\fyNiH\\src\\interfaces.jl:227 [inlined]",
      " [3] connect_plot!(parent::Scene, plot::Plot{MakieCore.plot, Tuple{StepRangeLen{Float64, Base.TwicePrecision{Float64}, Base.TwicePrecision{Float64}, Int64}, Matrix{Float64}}})",
      "   @ Makie C:\\Users\\hpark1\\.julia\\packages\\Makie\\fyNiH\\src\\interfaces.jl:255",
      " [4] plot!",
      "   @ Makie C:\\Users\\hpark1\\.julia\\packages\\Makie\\fyNiH\\src\\interfaces.jl:260 [inlined]",
      " [5] plot!(ax::Axis, plot::Plot{MakieCore.plot, Tuple{StepRangeLen{Float64, Base.TwicePrecision{Float64}, Base.TwicePrecision{Float64}, Int64}, Matrix{Float64}}})",
      "   @ Makie C:\\Users\\hpark1\\.julia\\packages\\Makie\\fyNiH\\src\\figureplotting.jl:291",
      " [6] plot!(fa::Makie.FigureAxis, plot::Plot{MakieCore.plot, Tuple{StepRangeLen{Float64, Base.TwicePrecision{Float64}, Base.TwicePrecision{Float64}, Int64}, Matrix{Float64}}})",
      "   @ Makie C:\\Users\\hpark1\\.julia\\packages\\Makie\\fyNiH\\src\\figureplotting.jl:288",
      " [7] _create_plot(::Function, ::Dict{Symbol, Any}, ::StepRangeLen{Float64, Base.TwicePrecision{Float64}, Base.TwicePrecision{Float64}, Int64}, ::Vararg{Any})",
      "   @ Makie C:\\Users\\hpark1\\.julia\\packages\\Makie\\fyNiH\\src\\figureplotting.jl:250",
      " [8] plot(::StepRangeLen{Float64, Base.TwicePrecision{Float64}, Base.TwicePrecision{Float64}, Int64}, ::Vararg{Any}; kw::@Kwargs{title::String, label::Matrix{String}, linewidth::Int64})",
      "   @ MakieCore C:\\Users\\hpark1\\.julia\\packages\\MakieCore\\5nuEY\\src\\recipes.jl:39",
      " [9] top-level scope",
      "   @ In[11]:4"
     ]
    }
   ],
   "source": [
    "x = range(0, 10, length=100)\n",
    "y1 = sin.(x)\n",
    "y2 = cos.(x)\n",
    "display(plot(x, [y1 y2], title=\"Trigonometric functions\", label=[\"sin(x)\" \"cos(x)\"], linewidth=3))"
   ]
  },
  {
   "cell_type": "code",
   "execution_count": null,
   "id": "237c4a54-1e70-471c-9602-03d8b919b90a",
   "metadata": {},
   "outputs": [],
   "source": []
  }
 ],
 "metadata": {
  "kernelspec": {
   "display_name": "Julia 1.10.0",
   "language": "julia",
   "name": "julia-1.10"
  },
  "language_info": {
   "file_extension": ".jl",
   "mimetype": "application/julia",
   "name": "julia",
   "version": "1.10.0"
  }
 },
 "nbformat": 4,
 "nbformat_minor": 5
}
