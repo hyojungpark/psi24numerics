{
 "cells": [
  {
   "cell_type": "markdown",
   "id": "7d627f6a-9bf6-4463-8215-97c37dc87ba1",
   "metadata": {},
   "source": [
    "# Tutorial 2\n",
    "## Hyo Jung Park\n",
    "### Jan 16, 2024"
   ]
  },
  {
   "cell_type": "code",
   "execution_count": 170,
   "id": "1bf78009-7cf9-4212-871c-dd34f43b1653",
   "metadata": {},
   "outputs": [],
   "source": [
    "using LinearAlgebra"
   ]
  },
  {
   "cell_type": "markdown",
   "id": "b0bfc9fb-a4a2-487a-9dd4-ade942bb656f",
   "metadata": {},
   "source": [
    "function power_method(A, x)\n",
    "    eigvals = eigvals(A) # use eigvals[i] to access each value, note i runs 1 ... n\n",
    "    eigvecs = eigvecs(A) # all normalized; use eigvecs[row, col] --> eigvecs[:,j] to access the j-th vector\n",
    "    n = length(eigvals)  # dimension of the matrix\n",
    "\n",
    "    cis = zeros(n)  # c_i's are the projections of x onto the eigenvectors\n",
    "    for i in 1:n\n",
    "        vi = eigvecs[:,i] # i-th eigenvector\n",
    "        ci = dot(x, vi) # i-th projection\n",
    "        cis[i] = ci     # store in the array\n",
    "    end\n",
    "\n",
    "    .... -_-"
   ]
  },
  {
   "cell_type": "code",
   "execution_count": 266,
   "id": "982f1cd9-ac45-4cc3-bcb8-ab9564831369",
   "metadata": {},
   "outputs": [
    {
     "data": {
      "text/plain": [
       "power_method"
      ]
     },
     "execution_count": 266,
     "metadata": {},
     "output_type": "execute_result"
    }
   ],
   "source": [
    "\"\"\"\n",
    "Power method extracts the eigenvector corresponding to the largest magnitude (eigenvalue) of an operator without eigendecomposition!\n",
    ":param A: m*m symmetic matrix\n",
    ":param x: any m-vector\n",
    ":param n: number of iterations\n",
    "\n",
    ":returns: x, largest eigenvalue\n",
    "\"\"\"\n",
    "function power_method(A, x, n)\n",
    "    norm = 0\n",
    "    for i in 1:n\n",
    "        x = A*x\n",
    "        norm = LinearAlgebra.norm(x)\n",
    "        x /= norm\n",
    "    end\n",
    "    # println(\"Largest eigenvalue estimated:\", norm)\n",
    "    return x, transpose(x)*A*x\n",
    "end"
   ]
  },
  {
   "cell_type": "code",
   "execution_count": 267,
   "id": "6b217838-68fc-4448-99a3-0f87d9fe7709",
   "metadata": {},
   "outputs": [
    {
     "data": {
      "text/plain": [
       "3×3 Matrix{Float64}:\n",
       " -1.45843    0.4293    -0.790425\n",
       " -1.20135    0.316961  -0.605521\n",
       "  0.620907  -1.70058    0.868603"
      ]
     },
     "execution_count": 267,
     "metadata": {},
     "output_type": "execute_result"
    }
   ],
   "source": [
    "x = randn(3);\n",
    "A = randn(3,3)\n",
    "AA =  [[-1.45843 ,  -1.20135,    0.620907] [0.4293   ,  0.316961 , -1.70058] [ -0.790425,  -0.605521 ,  0.868603]]"
   ]
  },
  {
   "cell_type": "code",
   "execution_count": 268,
   "id": "bc8d417a-1c1c-49b0-80ec-3f1adcae667f",
   "metadata": {},
   "outputs": [
    {
     "data": {
      "text/plain": [
       "3-element Vector{Float64}:\n",
       " -1.3806363899980383\n",
       "  0.04957729521210317\n",
       "  1.0581930947859346"
      ]
     },
     "execution_count": 268,
     "metadata": {},
     "output_type": "execute_result"
    }
   ],
   "source": [
    "eigvals(AA) # first is the largest"
   ]
  },
  {
   "cell_type": "code",
   "execution_count": 269,
   "id": "dd3301e3-dcae-4d87-9992-c8c53a981d5e",
   "metadata": {},
   "outputs": [
    {
     "data": {
      "text/plain": [
       "3×3 Matrix{Float64}:\n",
       " 0.74092    0.380084   0.326409\n",
       " 0.618057  -0.28502    0.221619\n",
       " 0.262761  -0.879943  -0.918881"
      ]
     },
     "execution_count": 269,
     "metadata": {},
     "output_type": "execute_result"
    }
   ],
   "source": [
    "eigvecs(AA) # the first coloum is the PC1"
   ]
  },
  {
   "cell_type": "markdown",
   "id": "151fa1a0-3d42-4be3-afa3-0ed31a3e6beb",
   "metadata": {},
   "source": [
    "Now let's check! Let's also see how it improves with respect to the iteration n:"
   ]
  },
  {
   "cell_type": "code",
   "execution_count": 270,
   "id": "fcdbf263-10a6-48fa-b706-a97894bcab93",
   "metadata": {},
   "outputs": [
    {
     "data": {
      "text/plain": [
       "([-0.3350234858420462, -0.22896349783242662, 0.9139666189717132], 1.0537658115481252)"
      ]
     },
     "execution_count": 270,
     "metadata": {},
     "output_type": "execute_result"
    }
   ],
   "source": [
    "power_method(AA, x, 3)"
   ]
  },
  {
   "cell_type": "code",
   "execution_count": 271,
   "id": "d6bf502a-b818-412d-95ce-e949ff743eeb",
   "metadata": {},
   "outputs": [
    {
     "data": {
      "text/plain": [
       "([-0.2691502005604169, -0.17345538146995165, 0.947349671545518], 1.0695565559633904)"
      ]
     },
     "execution_count": 271,
     "metadata": {},
     "output_type": "execute_result"
    }
   ],
   "source": [
    "power_method(AA, x, 10)"
   ]
  },
  {
   "cell_type": "code",
   "execution_count": 272,
   "id": "83412d6c-9d2e-4a71-ac43-fb2af77aec23",
   "metadata": {},
   "outputs": [
    {
     "data": {
      "text/plain": [
       "([0.7409199830476071, 0.6180567827234914, 0.262761093105925], -1.3806363901659247)"
      ]
     },
     "execution_count": 272,
     "metadata": {},
     "output_type": "execute_result"
    }
   ],
   "source": [
    "power_method(AA, x, 100)"
   ]
  },
  {
   "cell_type": "code",
   "execution_count": 273,
   "id": "5fe1da6c-140d-4691-a81f-4f4c3b6909c0",
   "metadata": {},
   "outputs": [
    {
     "data": {
      "text/plain": [
       "([0.7409199831601738, 0.6180567827920032, 0.2627610926273645], -1.3806363899980383)"
      ]
     },
     "execution_count": 273,
     "metadata": {},
     "output_type": "execute_result"
    }
   ],
   "source": [
    "power_method(AA, x, 10000)"
   ]
  },
  {
   "cell_type": "markdown",
   "id": "4e26f1f3-a4c4-4436-989e-f68e7f76aeb3",
   "metadata": {},
   "source": [
    "Indeed, the approximation becomes better!! Compare to the magnitude of the first eigenvalue:"
   ]
  },
  {
   "cell_type": "code",
   "execution_count": 274,
   "id": "eebd3bd5-9a13-42cc-9c22-25c9a5c4df1d",
   "metadata": {},
   "outputs": [
    {
     "name": "stdout",
     "output_type": "stream",
     "text": [
      "[0.7409199831601738, 0.6180567827920032, 0.2627610926273645]\n",
      "-1.3806363899980383\n"
     ]
    }
   ],
   "source": [
    "vec, val = power_method(AA, x, 10000)\n",
    "println(vec)\n",
    "println(val)"
   ]
  },
  {
   "cell_type": "code",
   "execution_count": 275,
   "id": "072af616-1ef0-4f4d-a627-5de79d046755",
   "metadata": {},
   "outputs": [
    {
     "data": {
      "text/plain": [
       "-1.3806363899980383"
      ]
     },
     "execution_count": 275,
     "metadata": {},
     "output_type": "execute_result"
    }
   ],
   "source": [
    "eigvals(AA)[1]"
   ]
  },
  {
   "cell_type": "markdown",
   "id": "a9c8a7e1-ba07-43c0-bcb2-85ec359f3dfd",
   "metadata": {},
   "source": [
    "# Power Method for PC2"
   ]
  },
  {
   "cell_type": "code",
   "execution_count": 276,
   "id": "c162a7ca-0f53-4383-a315-4a56a7e4ce69",
   "metadata": {},
   "outputs": [
    {
     "data": {
      "text/plain": [
       "power_method2"
      ]
     },
     "execution_count": 276,
     "metadata": {},
     "output_type": "execute_result"
    }
   ],
   "source": [
    "\"\"\"\n",
    "Power method extracts the eigenvector corresponding to the SECOND largest magnitude (eigenvalue) of an operator without eigendecomposition!\n",
    ":param A: m*m symmetic matrix\n",
    ":param x: any m-vector\n",
    ":param n: number of iterations\n",
    "\n",
    ":returns: x, second largest eigenvalue\"\"\"\n",
    "function power_method2(A, x, n)\n",
    "    v1, l1 = power_method(A, x, n) # the major eigenvector & eigenvalue\n",
    "\n",
    "    # modify (reduce) A\n",
    "    AA = A - l1 * v1 * transpose(v1) # based on spectral decomposition\n",
    "    return power_method(AA, x, n)\n",
    "end"
   ]
  },
  {
   "cell_type": "code",
   "execution_count": 277,
   "id": "46a45b47-8aef-496e-8a41-af5848768e61",
   "metadata": {},
   "outputs": [
    {
     "data": {
      "text/plain": [
       "3×3 Matrix{Float64}:\n",
       " -1.45843    0.4293    -0.790425\n",
       " -1.20135    0.316961  -0.605521\n",
       "  0.620907  -1.70058    0.868603"
      ]
     },
     "execution_count": 277,
     "metadata": {},
     "output_type": "execute_result"
    }
   ],
   "source": [
    "x = randn(3);\n",
    "AA =  [[-1.45843 ,  -1.20135,    0.620907] [0.4293   ,  0.316961 , -1.70058] [ -0.790425,  -0.605521 ,  0.868603]]"
   ]
  },
  {
   "cell_type": "code",
   "execution_count": 278,
   "id": "9957ff0a-6a6a-4688-9a15-dd2c4a53552c",
   "metadata": {},
   "outputs": [
    {
     "data": {
      "text/plain": [
       "3-element Vector{Float64}:\n",
       " -1.3806363899980383\n",
       "  0.04957729521210317\n",
       "  1.0581930947859346"
      ]
     },
     "execution_count": 278,
     "metadata": {},
     "output_type": "execute_result"
    }
   ],
   "source": [
    "eigvals(AA) # first is the largest; third is the second largest"
   ]
  },
  {
   "cell_type": "code",
   "execution_count": 279,
   "id": "783afa9d-55d5-4b13-befa-f452ce86fd62",
   "metadata": {},
   "outputs": [
    {
     "data": {
      "text/plain": [
       "3×3 Matrix{Float64}:\n",
       " 0.74092    0.380084   0.326409\n",
       " 0.618057  -0.28502    0.221619\n",
       " 0.262761  -0.879943  -0.918881"
      ]
     },
     "execution_count": 279,
     "metadata": {},
     "output_type": "execute_result"
    }
   ],
   "source": [
    "eigvecs(AA) # the first coloum is the PC1; third is the second largest"
   ]
  },
  {
   "cell_type": "markdown",
   "id": "c9b1aa7e-029a-4bb5-a1c1-70e57492a1f1",
   "metadata": {},
   "source": [
    "Now let's check! Let's also see how it improves with respect to the iteration n:"
   ]
  },
  {
   "cell_type": "code",
   "execution_count": 280,
   "id": "a9ae6d87-0674-45e0-a20d-e0b61f044073",
   "metadata": {},
   "outputs": [
    {
     "data": {
      "text/plain": [
       "([-0.6085703616431335, -0.465658206139818, 0.6424986770291381], 0.9419977920835294)"
      ]
     },
     "execution_count": 280,
     "metadata": {},
     "output_type": "execute_result"
    }
   ],
   "source": [
    "power_method2(AA, x, 3)"
   ]
  },
  {
   "cell_type": "code",
   "execution_count": 281,
   "id": "e10eabaf-b45a-4d25-a81f-e3984f6b4eb0",
   "metadata": {},
   "outputs": [
    {
     "data": {
      "text/plain": [
       "([-0.3639323923442407, -0.2533740552220099, 0.896300620295976], 1.045195615731009)"
      ]
     },
     "execution_count": 281,
     "metadata": {},
     "output_type": "execute_result"
    }
   ],
   "source": [
    "power_method2(AA, x, 10)"
   ]
  },
  {
   "cell_type": "code",
   "execution_count": 282,
   "id": "efde6917-348f-4fcb-bbfa-2fa8df94f04e",
   "metadata": {},
   "outputs": [
    {
     "data": {
      "text/plain": [
       "([-0.4415884983802771, -0.31964199913297686, 0.8383487284468953], 1.0581930947842293)"
      ]
     },
     "execution_count": 282,
     "metadata": {},
     "output_type": "execute_result"
    }
   ],
   "source": [
    "power_method2(AA, x, 100)"
   ]
  },
  {
   "cell_type": "code",
   "execution_count": 284,
   "id": "cb66e9aa-55d0-47e7-aa5e-bf1377ff5af4",
   "metadata": {},
   "outputs": [
    {
     "data": {
      "text/plain": [
       "([-0.44158849838266634, -0.31964199913502833, 0.8383487284448545], 1.0581930947859357)"
      ]
     },
     "execution_count": 284,
     "metadata": {},
     "output_type": "execute_result"
    }
   ],
   "source": [
    "power_method2(AA, x, 10000)"
   ]
  },
  {
   "cell_type": "markdown",
   "id": "51e8e57a-a14b-4235-a6cb-51b92b99c7b4",
   "metadata": {},
   "source": [
    "Yay, it works!!!!!!!!!!!!!!!!!!"
   ]
  },
  {
   "cell_type": "markdown",
   "id": "4078f02b-b713-4d28-af0d-d9b178d9f9a3",
   "metadata": {
    "jp-MarkdownHeadingCollapsed": true
   },
   "source": [
    "# Workspace"
   ]
  },
  {
   "cell_type": "code",
   "execution_count": 198,
   "id": "4edc30a3-7c73-4258-8d81-efd2d70cd08c",
   "metadata": {},
   "outputs": [
    {
     "data": {
      "text/plain": [
       "2×2 Matrix{Int64}:\n",
       " 1   0\n",
       " 0  -1"
      ]
     },
     "execution_count": 198,
     "metadata": {},
     "output_type": "execute_result"
    }
   ],
   "source": [
    "A = randn(3, 3)\n",
    "B = Matrix([[1, 0] [0, -1]])"
   ]
  },
  {
   "cell_type": "code",
   "execution_count": 199,
   "id": "1c41fb51-c96d-40bb-a6f6-b51814d148a4",
   "metadata": {},
   "outputs": [
    {
     "data": {
      "text/plain": [
       "3-element Vector{Float64}:\n",
       " -1.2566824515331265\n",
       "  0.06571828136699583\n",
       "  2.1972615474897896"
      ]
     },
     "execution_count": 199,
     "metadata": {},
     "output_type": "execute_result"
    }
   ],
   "source": [
    "val = eigvals(A)"
   ]
  },
  {
   "cell_type": "code",
   "execution_count": 200,
   "id": "faab8d55-b0ff-448d-9464-0f5ffa91961d",
   "metadata": {},
   "outputs": [
    {
     "data": {
      "text/plain": [
       "3×3 Matrix{Float64}:\n",
       " -0.910172   -0.811287   0.055529\n",
       " -0.40998    -0.35903   -0.950848\n",
       " -0.0591843   0.461423   0.304638"
      ]
     },
     "execution_count": 200,
     "metadata": {},
     "output_type": "execute_result"
    }
   ],
   "source": [
    "vec = eigvecs(A) # eigenvectors are the columns of the matrix, in the order of the eigenvalues"
   ]
  },
  {
   "cell_type": "code",
   "execution_count": 47,
   "id": "4498beab-4376-4c33-87e9-093b146971d8",
   "metadata": {},
   "outputs": [
    {
     "data": {
      "text/plain": [
       "2-element Vector{Float64}:\n",
       " -1.0\n",
       "  1.0"
      ]
     },
     "execution_count": 47,
     "metadata": {},
     "output_type": "execute_result"
    }
   ],
   "source": [
    "vals = eigvals(B) # vals[i] to access each value, note i runs 1 ... n"
   ]
  },
  {
   "cell_type": "code",
   "execution_count": 48,
   "id": "0ccafa98-431d-45e0-a971-5c9725153200",
   "metadata": {},
   "outputs": [
    {
     "data": {
      "text/plain": [
       "2×2 Matrix{Float64}:\n",
       " 0.0  1.0\n",
       " 1.0  0.0"
      ]
     },
     "execution_count": 48,
     "metadata": {},
     "output_type": "execute_result"
    }
   ],
   "source": [
    "vecs = eigvecs(B)"
   ]
  },
  {
   "cell_type": "code",
   "execution_count": 49,
   "id": "8aa8f6ba-9820-447e-912f-ed67b8c5581d",
   "metadata": {},
   "outputs": [
    {
     "data": {
      "text/plain": [
       "-1.0"
      ]
     },
     "execution_count": 49,
     "metadata": {},
     "output_type": "execute_result"
    }
   ],
   "source": [
    "vals[1]"
   ]
  },
  {
   "cell_type": "code",
   "execution_count": 50,
   "id": "59eec308-101a-48e2-8398-cd9ccdc5307a",
   "metadata": {},
   "outputs": [
    {
     "data": {
      "text/plain": [
       "2-element Vector{Float64}:\n",
       " 0.0\n",
       " 1.0"
      ]
     },
     "execution_count": 50,
     "metadata": {},
     "output_type": "execute_result"
    }
   ],
   "source": [
    "vecs[1,:] # first row"
   ]
  },
  {
   "cell_type": "code",
   "execution_count": 52,
   "id": "6ca3b470-ddca-4ac5-9fe5-684ccd3a0c67",
   "metadata": {},
   "outputs": [
    {
     "data": {
      "text/plain": [
       "3-element Vector{ComplexF64}:\n",
       " 0.24284331196740302 + 0.0im\n",
       "  0.8475991742394258 + 0.0im\n",
       "  0.4718079754109145 + 0.0im"
      ]
     },
     "execution_count": 52,
     "metadata": {},
     "output_type": "execute_result"
    }
   ],
   "source": [
    "vec[:,1] # first column"
   ]
  },
  {
   "cell_type": "code",
   "execution_count": 53,
   "id": "1b3181d2-a4db-44d0-97aa-f76d4aa26ab2",
   "metadata": {},
   "outputs": [
    {
     "data": {
      "text/plain": [
       "2"
      ]
     },
     "execution_count": 53,
     "metadata": {},
     "output_type": "execute_result"
    }
   ],
   "source": [
    "length(vals)"
   ]
  },
  {
   "cell_type": "code",
   "execution_count": 56,
   "id": "c6288ab2-aa68-4b76-b40d-c221fa534481",
   "metadata": {},
   "outputs": [
    {
     "data": {
      "text/plain": [
       "1.0"
      ]
     },
     "execution_count": 56,
     "metadata": {},
     "output_type": "execute_result"
    }
   ],
   "source": [
    "norm(vec[:,3])"
   ]
  },
  {
   "cell_type": "code",
   "execution_count": 59,
   "id": "5dba6568-a17e-479a-b364-84f7afd378e5",
   "metadata": {},
   "outputs": [
    {
     "data": {
      "text/plain": [
       "3-element Vector{Float64}:\n",
       " 0.0\n",
       " 0.0\n",
       " 0.0"
      ]
     },
     "execution_count": 59,
     "metadata": {},
     "output_type": "execute_result"
    }
   ],
   "source": [
    "lala = zeros(3)"
   ]
  },
  {
   "cell_type": "code",
   "execution_count": 60,
   "id": "d71485e5-f3fc-4da1-b800-5b3410e5d23b",
   "metadata": {},
   "outputs": [
    {
     "data": {
      "text/plain": [
       "3"
      ]
     },
     "execution_count": 60,
     "metadata": {},
     "output_type": "execute_result"
    }
   ],
   "source": [
    "lala[1]=3"
   ]
  },
  {
   "cell_type": "code",
   "execution_count": 61,
   "id": "636faca4-99de-4188-af13-46c0fc30bf1d",
   "metadata": {},
   "outputs": [
    {
     "data": {
      "text/plain": [
       "3-element Vector{Float64}:\n",
       " 3.0\n",
       " 0.0\n",
       " 0.0"
      ]
     },
     "execution_count": 61,
     "metadata": {},
     "output_type": "execute_result"
    }
   ],
   "source": [
    "lala"
   ]
  },
  {
   "cell_type": "code",
   "execution_count": 62,
   "id": "ac362e33-c1d0-4ac7-84d2-0eee53c7f8b5",
   "metadata": {},
   "outputs": [
    {
     "data": {
      "text/plain": [
       "2-element Vector{Float64}:\n",
       " 1.0\n",
       " 0.0"
      ]
     },
     "execution_count": 62,
     "metadata": {},
     "output_type": "execute_result"
    }
   ],
   "source": [
    "B*vecs[:,2]"
   ]
  },
  {
   "cell_type": "code",
   "execution_count": null,
   "id": "01d47ca0-01eb-4a9e-b18b-0760a3abfed1",
   "metadata": {},
   "outputs": [],
   "source": []
  }
 ],
 "metadata": {
  "kernelspec": {
   "display_name": "Julia 1.10.0",
   "language": "julia",
   "name": "julia-1.10"
  },
  "language_info": {
   "file_extension": ".jl",
   "mimetype": "application/julia",
   "name": "julia",
   "version": "1.10.0"
  }
 },
 "nbformat": 4,
 "nbformat_minor": 5
}
